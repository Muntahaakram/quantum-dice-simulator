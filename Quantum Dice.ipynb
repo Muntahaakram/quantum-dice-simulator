{
 "cells": [
  {
   "cell_type": "markdown",
   "id": "370233b9-663b-45f9-91a8-b89d3e32642e",
   "metadata": {},
   "source": [
    "# 🎲 Quantum Dice Simulator using Qiskit\n",
    "\n",
    "This notebook simulates a quantum dice roller using **Qiskit**, an open-source quantum computing framework by IBM.We’ll also visualize the dice rolls as images using **matplotlib** and **Pillow**, and finally generate a GIF animation.\n",
    "Run these commands to install the required libraries if you haven't already.\n",
    "```python\n",
    "!pip install qiskit qiskit-aer matplotlib pillow"
   ]
  },
  {
   "cell_type": "markdown",
   "id": "129ad6ae-cb86-4884-86d8-a1708ef1a71b",
   "metadata": {},
   "source": [
    "## What is a Quantum Random Number Generator (QRNG)?\n",
    "\n",
    "A Quantum Random Number Generator is a device or program that **generates random numbers** based on quantum phenomena — like the behavior of photons, electrons, or qubits.  \n",
    "In quantum mechanics, the outcome of measuring a qubit in superposition is fundamentally random, and this randomness is unpredictable by any classical algorithm.\n",
    "\n",
    "## What is a Quantum Dice Simulator?\n",
    "\n",
    "A Quantum Dice Simulator is a virtual dice roller that uses quantum mechanics to generate truly random numbers.  \n",
    "Unlike traditional dice simulators, which rely on computer-generated pseudo-random numbers (not truly random), this simulator uses the concept of quantum superposition and measurement to produce unpredictable outcomes — just like rolling a real dice.\n",
    "\n",
    "## Why Use a Quantum Random Number Generator?  \n",
    "**Benefits and Purpose:**\n",
    "\n",
    "- ✅ **True randomness:** Classical random number generators are based on mathematical algorithms (pseudo-random), while QRNGs are based on the unpredictable nature of quantum physics.\n",
    "- ✅ **High security:** Used in secure encryption, cryptography, and sensitive simulations where predictable patterns are a risk.\n",
    "- ✅ **Fair games and lotteries:** Ensures outcomes cannot be predicted or manipulated.\n",
    "- ✅ **Quantum computing research:** Helps test and simulate randomness-based algorithms in quantum systems.\n",
    "- ✅ **Scientific simulations:** Some physical models require true randomness for accurate simulation.\n",
    "\n",
    "## What is the Purpose of This Project?\n",
    "\n",
    "The purpose of this Quantum Dice Simulator is to:\n",
    "- Demonstrate how quantum circuits can generate random outcomes.\n",
    "- Visualize those outcomes in the form of a dice roll.\n",
    "- Create a fun, educational, and interactive way to understand **quantum randomness**.\n",
    "- Show the difference between classical and quantum randomness.\n",
    "- Learn how to build, simulate, and visualize quantum circuits using **Qiskit**.\n",
    "\n"
   ]
  },
  {
   "cell_type": "code",
   "execution_count": 54,
   "id": "c333a47b-36f4-40ea-afcd-b0d73e3b00d7",
   "metadata": {},
   "outputs": [],
   "source": [
    "# Quantum circuit creation and simulation\n",
    "from qiskit import QuantumCircuit\n",
    "from qiskit_aer import Aer, AerSimulator\n",
    "from qiskit import transpile\n",
    "\n",
    "# Visualization\n",
    "import matplotlib.pyplot as plt\n",
    "\n",
    "# Image creation and GIF generation\n",
    "from PIL import Image, ImageDraw\n",
    "\n",
    "# Handle images in memory\n",
    "import io\n",
    "\n",
    "# Numerical operations (if needed)\n",
    "import numpy as np\n",
    "\n",
    "# Random number generation for any classical logic\n",
    "import random\n"
   ]
  },
  {
   "cell_type": "markdown",
   "id": "13f426f4-61df-4a32-abbb-30ce0ab11a86",
   "metadata": {},
   "source": [
    "🎲 Quantum Dice Roll Function\n",
    "This function runs the quantum circuit, converts the 3-bit result to a decimal (0-7), and if it's less than 6, returns the dice number (1-6)."
   ]
  },
  {
   "cell_type": "code",
   "execution_count": 55,
   "id": "64a36fd8-f453-448c-b5b3-364807864c02",
   "metadata": {},
   "outputs": [],
   "source": [
    "def quantum_dice_roll():\n",
    "    qc = QuantumCircuit(3, 3)\n",
    "    qc.h([0, 1, 2])\n",
    "    qc.measure(range(3), range(3))\n",
    "\n",
    "    # Use AerSimulator for local simulation\n",
    "    simulator = AerSimulator()\n",
    "\n",
    "    # Transpile for simulator compatibility\n",
    "    compiled_circuit = transpile(qc, simulator)\n",
    "\n",
    "    while True:\n",
    "        result = simulator.run(compiled_circuit, shots=1).result()\n",
    "        counts = result.get_counts()\n",
    "        bitstring = list(counts.keys())[0]\n",
    "        outcome = int(bitstring, 2)\n",
    "\n",
    "        # Only accept outcomes 0-5 (since dice has 6 sides)\n",
    "        if outcome < 6:\n",
    "            return outcome + 1\n",
    "\n"
   ]
  },
  {
   "cell_type": "markdown",
   "id": "adcf67e6-cc83-4a90-836c-8ece94c56a02",
   "metadata": {},
   "source": [
    "🎲 Dice Face Dot Positions\n",
    "Mapping dot positions for standard dice face visuals."
   ]
  },
  {
   "cell_type": "code",
   "execution_count": 56,
   "id": "91a47edd-9746-48a4-bf3a-f13b8c80e944",
   "metadata": {},
   "outputs": [],
   "source": [
    "dots = {\n",
    "    1: [(1.5, 1.5)],\n",
    "    2: [(0.75, 2.25), (2.25, 0.75)],\n",
    "    3: [(0.75, 2.25), (1.5, 1.5), (2.25, 0.75)],\n",
    "    4: [(0.75, 2.25), (0.75, 0.75), (2.25, 2.25), (2.25, 0.75)],\n",
    "    5: [(0.75, 2.25), (0.75, 0.75), (1.5, 1.5), (2.25, 2.25), (2.25, 0.75)],\n",
    "    6: [(0.75, 2.25), (0.75, 1.5), (0.75, 0.75), (2.25, 2.25), (2.25, 1.5), (2.25, 0.75)],\n",
    "}\n"
   ]
  },
  {
   "cell_type": "markdown",
   "id": "c0888c6a-93b6-49c0-976f-b6381210a585",
   "metadata": {},
   "source": [
    "Draw Dice Face as Image:\n",
    "This function creates a dice face image for a given number using matplotlib."
   ]
  },
  {
   "cell_type": "code",
   "execution_count": 58,
   "id": "819f314f-1780-40e1-a96d-65cf780d1310",
   "metadata": {},
   "outputs": [],
   "source": [
    "def draw_dice_dots(number, roll_num=None):\n",
    "    fig, ax = plt.subplots(figsize=(2, 2))\n",
    "    ax.set_xlim(0, 3)\n",
    "    ax.set_ylim(0, 3.5)\n",
    "    ax.axis('off')\n",
    "    ax.set_aspect('equal')\n",
    "\n",
    "    # Optional heading text for each roll\n",
    "    if roll_num is not None:\n",
    "        ax.text(1.5, 3.3, f'Roll {roll_num}', ha='center', va='center', fontsize=14, fontweight='bold')\n",
    "\n",
    "    # Draw dice border\n",
    "    rect = plt.Rectangle((0.25, 0.25), 2.5, 2.5, linewidth=2, edgecolor='black', facecolor='white')\n",
    "    ax.add_patch(rect)\n",
    "\n",
    "    # Draw dots on dice face\n",
    "    for (x, y) in dots[number]:\n",
    "        circle = plt.Circle((x, y), 0.2, color='black')\n",
    "        ax.add_patch(circle)\n",
    "\n",
    "    # Save figure to in-memory buffer\n",
    "    buf = io.BytesIO()\n",
    "    plt.savefig(buf, format='png', bbox_inches='tight')\n",
    "    plt.close(fig)\n",
    "    buf.seek(0)\n",
    "    img = Image.open(buf)\n",
    "    return img\n"
   ]
  },
  {
   "cell_type": "markdown",
   "id": "09c0bbb9-7ca6-4312-8437-5d01e116a778",
   "metadata": {},
   "source": [
    "Simulate 10 Rolls and Create GIF\n",
    "Run the dice roll 10 times, save images, and generate an animated GIF."
   ]
  },
  {
   "cell_type": "code",
   "execution_count": 59,
   "id": "82c763f6-9206-4ddd-8285-336336f7ff20",
   "metadata": {},
   "outputs": [
    {
     "name": "stdout",
     "output_type": "stream",
     "text": [
      "Roll 1: 6\n",
      "Roll 2: 4\n",
      "Roll 3: 1\n",
      "Roll 4: 1\n",
      "Roll 5: 4\n",
      "Roll 6: 4\n",
      "Roll 7: 2\n",
      "Roll 8: 6\n",
      "Roll 9: 4\n",
      "Roll 10: 4\n",
      "GIF saved as quantum_dice_roller.gif\n"
     ]
    }
   ],
   "source": [
    "frames = []\n",
    "num_rolls = 10\n",
    "\n",
    "for i in range(num_rolls):\n",
    "    roll_number = quantum_dice_roll()\n",
    "    print(f\"Roll {i+1}: {roll_number}\")\n",
    "    img = draw_dice_dots(roll_number, roll_num=i+1)\n",
    "    frames.append(img)\n",
    "\n",
    "# Save as animated GIF\n",
    "frames[0].save('quantum_dice_roller.gif', save_all=True, append_images=frames[1:], duration=800, loop=0)\n",
    "\n",
    "print(\"GIF saved as quantum_dice_roller.gif\")\n"
   ]
  },
  {
   "cell_type": "markdown",
   "id": "031749b4-74fb-4077-b38e-66197d11fd42",
   "metadata": {},
   "source": [
    "Check Current Directory (Where GIF is Saved)"
   ]
  },
  {
   "cell_type": "code",
   "execution_count": 60,
   "id": "f62bcc43-33c4-4395-99b9-10bd943dc7b0",
   "metadata": {
    "collapsed": true,
    "jupyter": {
     "outputs_hidden": true
    }
   },
   "outputs": [
    {
     "name": "stdout",
     "output_type": "stream",
     "text": [
      "C:\\Users\\mona\n"
     ]
    }
   ],
   "source": [
    "import os\n",
    "print(os.getcwd())\n"
   ]
  },
  {
   "cell_type": "code",
   "execution_count": null,
   "id": "967c5f94-37da-42ef-9139-edfae67c1604",
   "metadata": {},
   "outputs": [],
   "source": []
  }
 ],
 "metadata": {
  "kernelspec": {
   "display_name": "Python 3 (ipykernel)",
   "language": "python",
   "name": "python3"
  },
  "language_info": {
   "codemirror_mode": {
    "name": "ipython",
    "version": 3
   },
   "file_extension": ".py",
   "mimetype": "text/x-python",
   "name": "python",
   "nbconvert_exporter": "python",
   "pygments_lexer": "ipython3",
   "version": "3.11.6"
  }
 },
 "nbformat": 4,
 "nbformat_minor": 5
}
